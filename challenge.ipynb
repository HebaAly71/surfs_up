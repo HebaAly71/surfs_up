{
 "cells": [
  {
   "cell_type": "code",
   "execution_count": 0,
   "metadata": {},
   "outputs": [],
   "source": [
    "# Import dependencies\n",
    "import datetime as dt\n",
    "import numpy as np\n",
    "import pandas as pd\n",
    "import sqlalchemy\n",
    "from sqlalchemy.ext.automap import automap_base\n",
    "from sqlalchemy.orm import Session\n",
    "from sqlalchemy import create_engine, func\n",
    "from flask import Flask, jsonify\n",
    "from sqlalchemy import extract \n",
    "import json"
   ]
  },
  {
   "cell_type": "code",
   "execution_count": 0,
   "metadata": {},
   "outputs": [],
   "source": [
    "# Setup the DB\n",
    "engine = create_engine(\"sqlite:///hawaii.sqlite\")\n"
   ]
  },
  {
   "cell_type": "code",
   "execution_count": 0,
   "metadata": {},
   "outputs": [],
   "source": [
    "Base = automap_base()"
   ]
  },
  {
   "cell_type": "code",
   "execution_count": 0,
   "metadata": {},
   "outputs": [],
   "source": [
    "# Reflect tables\n",
    "Base.prepare(engine, reflect=True)"
   ]
  },
  {
   "cell_type": "code",
   "execution_count": 0,
   "metadata": {},
   "outputs": [],
   "source": [
    "# We’ll create a variable for each of the classes to reference them later\n",
    "measurement = Base.classes.measurement\n",
    "station = Base.classes.station\n"
   ]
  },
  {
   "cell_type": "code",
   "execution_count": 0,
   "metadata": {},
   "outputs": [],
   "source": [
    "# Create link from python to our DB\n",
    "session = Session(engine)\n"
   ]
  },
  {
   "cell_type": "code",
   "execution_count": 0,
   "metadata": {},
   "outputs": [],
   "source": [
    "# Flask app\n",
    "app = Flask(__name__)"
   ]
  },
  {
   "cell_type": "markdown",
   "metadata": {},
   "source": [
    "### Notice that the last route in the welcome route below \"/api/v1.0/month_stats/month\" is the route I created for the challenge."
   ]
  },
  {
   "cell_type": "code",
   "execution_count": 0,
   "metadata": {},
   "outputs": [],
   "source": [
    "# Welcome route\n",
    "@app.route(\"/\")\n",
    "def welcome():\n",
    "\treturn( '''\n",
    "    Welcome to the Climate Analysis API!\n",
    "    Available Routes:\n",
    "    /api/v1.0/precipitation\n",
    "    /api/v1.0/stations\n",
    "    /api/v1.0/tobs\n",
    "    /api/v1.0/temp/start/end\n",
    "    /api/v1.0/month_stats/month\n",
    "    ''')\n",
    "\n"
   ]
  },
  {
   "cell_type": "code",
   "execution_count": 0,
   "metadata": {},
   "outputs": [],
   "source": [
    "# Percipitation route\n",
    "@app.route(\"/api/v1.0/precipitation\")\n",
    "def precipitation():\n",
    "    prev_year = dt.date(2017, 8, 23) - dt.timedelta(days=365)\n",
    "    precipitation = session.query(measurement.date, measurement.prcp).\\\n",
    "\tfilter(measurement.date >= prev_year).all()\n",
    "    precip = {date: prcp for date, prcp in precipitation}\n",
    "    return jsonify(precip)\n"
   ]
  },
  {
   "cell_type": "code",
   "execution_count": 0,
   "metadata": {},
   "outputs": [],
   "source": [
    "# Stations Route\n",
    "@app.route(\"/api/v1.0/stations\")\n",
    "def stations():\n",
    "    results = session.query(station.station).all()\n",
    "    stations = list(np.ravel(results))\n",
    "    return jsonify(stations)\n"
   ]
  },
  {
   "cell_type": "code",
   "execution_count": 0,
   "metadata": {},
   "outputs": [],
   "source": [
    "# Monthly Temperature route\n",
    "@app.route(\"/api/v1.0/tobs\")\n",
    "def temp_monthly():\n",
    "    prev_year = dt.date(2017, 8, 23) - dt.timedelta(days=365)\n",
    "    results = session.query(measurement.tobs).\\\n",
    "    filter(measurement.station == 'USC00519281').\\\n",
    "    filter(measurement.date >= prev_year).all()\n",
    "    temps = list(np.ravel(results))\n",
    "    return jsonify(temps)\n"
   ]
  },
  {
   "cell_type": "code",
   "execution_count": 0,
   "metadata": {},
   "outputs": [],
   "source": [
    "@app.route(\"/api/v1.0/temp/<start>/<end>\")\n",
    "def stats(start, end):\n",
    "    session = Session(engine)\n",
    "    results = session.query(func.min(measurement.tobs),func.avg(measurement.tobs),func.max(measurement.tobs)).\\\n",
    "    filter(measurement.date >= start).filter(measurement.date <= end).all()\n",
    "    temps = list(np.ravel(results))\n",
    "    session.close()\n",
    "    return jsonify(temps)"
   ]
  },
  {
   "cell_type": "markdown",
   "metadata": {},
   "source": [
    "# Challenge Part:\n",
    "### Run it and enter a number from 1 to 12 instead of the month in the route, i.e. \"/api/v1.0/month_stats/6\", this should give you the stats for the month of June."
   ]
  },
  {
   "cell_type": "code",
   "execution_count": 0,
   "metadata": {},
   "outputs": [],
   "source": [
    "#Month Stats Route using .describe() function\n",
    "@app.route(\"/api/v1.0/month_stats/<month>\")\n",
    "def month_stats(month):\n",
    "    session = Session(engine)\n",
    "    stats = []\n",
    "    stats= session.query(measurement.date, measurement.prcp, measurement.tobs, measurement.station).filter(extract('month', measurement.date)==month).all()\n",
    "    df_stats = pd.DataFrame(stats, columns=['date','precipitation','tobs','station'])\n",
    "    df_stats.set_index(df_stats['date'], inplace=True)\n",
    "    df_stats = df_stats.sort_index()\n",
    "    stats_month = df_stats.describe()\n",
    "    session.close\n",
    "    return stats_month.to_json()\n"
   ]
  },
  {
   "cell_type": "markdown",
   "metadata": {},
   "source": [
    "#### December Stats\n",
    "{\n",
    "precipitation: {\n",
    "count: 1405,\n",
    "mean: 0.2168185053,\n",
    "std: 0.5413993941,\n",
    "min: 0,\n",
    "25%: 0,\n",
    "50%: 0.03,\n",
    "75%: 0.15,\n",
    "max: 6.42\n",
    "},\n",
    "\n",
    "tobs: {\n",
    "count: 1517,\n",
    "mean: 71.0415293342,\n",
    "std: 3.7459198253,\n",
    "min: 56,\n",
    "25%: 69,\n",
    "50%: 71,\n",
    "75%: 74,\n",
    "max: 83\n",
    "}\n",
    "}\n",
    "\n",
    "#### June Stats\n",
    "{\n",
    "precipitation: {\n",
    "count: 1574,\n",
    "mean: 0.1363595934,\n",
    "std: 0.3357312525,\n",
    "min: 0,\n",
    "25%: 0,\n",
    "50%: 0.02,\n",
    "75%: 0.12,\n",
    "max: 4.43\n",
    "},\n",
    "\n",
    "tobs: {\n",
    "count: 1700,\n",
    "mean: 74.9441176471,\n",
    "std: 3.2574170517,\n",
    "min: 64,\n",
    "25%: 73,\n",
    "50%: 75,\n",
    "75%: 77,\n",
    "max: 85\n",
    "}\n",
    "}"
   ]
  },
  {
   "cell_type": "markdown",
   "metadata": {},
   "source": [
    "## Analysis and Findings:\n",
    "\n",
    "1) The mean of the precipitation for December is 57% higher than the mean in precipitation in June.  This makes sense since it rains less in summer than in winter months. \n",
    "\n",
    "2) Both the data for the precipitation in June and December are a bit skewed since the median is much lower than the mean in both months. Also, there is a great variance in the precipitation data for both December and June, this can be deduced from the standard deviation.  \n",
    "\n",
    "3) The mean of the temperature for June is 6% higher than the mean of temparature in December.  Its obvious that the average temparatures in June will be a bit higher than December since the weather is usually warmer in June than December.\n",
    "\n",
    "4) Looking at the temparature data in both December and June we can see that the median tempratures for both months compared to their means is almost the same which means that there will be no skewness, if its plotted in a histogram. There isn't a big variance in the temperature data for both June and December. \n",
    "\n",
    "## Recommendations:\n",
    "\n",
    "1) In order to conduct a fair weather comparison and analysis between the months of December and June we should take a look at the June and December data, and try to do some clean up, by excluding outliers, or duplicates etc.\n",
    "\n",
    "2) Also, maybe instead of just looking at December vs. June weather, we can analyze the weather for the winter months vs. the summer months for example (December, January, and February) Vs. (June, July, and August). In this case we will need to update the code above.\n",
    "\n",
    "3) Also we can get the same statistical data for each month per station and compare and analyze how it is different from a station to a station. \n"
   ]
  },
  {
   "cell_type": "code",
   "execution_count": null,
   "metadata": {},
   "outputs": [],
   "source": []
  }
 ],
 "metadata": {
  "file_extension": ".py",
  "kernelspec": {
   "display_name": "Python 3",
   "language": "python",
   "name": "python3"
  },
  "language_info": {
   "codemirror_mode": {
    "name": "ipython",
    "version": 3
   },
   "file_extension": ".py",
   "mimetype": "text/x-python",
   "name": "python",
   "nbconvert_exporter": "python",
   "pygments_lexer": "ipython3",
   "version": "3.7.4"
  },
  "mimetype": "text/x-python",
  "name": "python",
  "npconvert_exporter": "python",
  "pygments_lexer": "ipython3",
  "version": 3
 },
 "nbformat": 4,
 "nbformat_minor": 2
}
